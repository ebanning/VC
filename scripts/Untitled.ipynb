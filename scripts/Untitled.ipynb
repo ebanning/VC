{
 "cells": [
  {
   "cell_type": "code",
   "execution_count": 1,
   "id": "1ae5e716",
   "metadata": {},
   "outputs": [
    {
     "ename": "NameError",
     "evalue": "name '__file__' is not defined",
     "output_type": "error",
     "traceback": [
      "\u001b[1;31m---------------------------------------------------------------------------\u001b[0m",
      "\u001b[1;31mNameError\u001b[0m                                 Traceback (most recent call last)",
      "Input \u001b[1;32mIn [1]\u001b[0m, in \u001b[0;36m<cell line: 3>\u001b[1;34m()\u001b[0m\n\u001b[0;32m      1\u001b[0m \u001b[38;5;66;03m#https: // github.com / DataGlacier / VC.git\u001b[39;00m\n\u001b[0;32m      2\u001b[0m \u001b[38;5;28;01mimport\u001b[39;00m \u001b[38;5;21;01mjson\u001b[39;00m\u001b[38;5;241m,\u001b[39m \u001b[38;5;21;01mos\u001b[39;00m\n\u001b[1;32m----> 3\u001b[0m os\u001b[38;5;241m.\u001b[39mchdir(os\u001b[38;5;241m.\u001b[39mpath\u001b[38;5;241m.\u001b[39mdirname(os\u001b[38;5;241m.\u001b[39mpath\u001b[38;5;241m.\u001b[39mabspath(\u001b[38;5;18;43m__file__\u001b[39;49m)))\n\u001b[0;32m      6\u001b[0m \u001b[38;5;66;03m# User can add name and favourite sport in response.json\u001b[39;00m\n\u001b[0;32m      7\u001b[0m \u001b[38;5;66;03m# default sport Cricket will be added incase user does not provide fav sport\u001b[39;00m\n\u001b[0;32m     10\u001b[0m \u001b[38;5;28;01mdef\u001b[39;00m \u001b[38;5;21mload_json\u001b[39m():\n",
      "\u001b[1;31mNameError\u001b[0m: name '__file__' is not defined"
     ]
    }
   ],
   "source": [
    "#https: // github.com / DataGlacier / VC.git\n",
    "import json, os\n",
    "os.chdir(os.path.dirname(os.path.abspath(__file__)))\n",
    "\n",
    "\n",
    "# User can add name and favourite sport in response.json\n",
    "# default sport Cricket will be added incase user does not provide fav sport\n",
    "\n",
    "\n",
    "def load_json():\n",
    "    with open('../response.json') as json_obj:\n",
    "        response = json.load(json_obj)\n",
    "    return response\n",
    "\n",
    "\n",
    "response = load_json()\n",
    "\n",
    "def write_json(data,filename = '../response.json'):\n",
    "    with open(filename,'w') as file:\n",
    "        json.dump(data,file,indent=0)\n",
    "\n",
    "\n",
    "def call_sport():\n",
    "    name = input(\"Please add your name: \")\n",
    "    sport = input(\"Please add your favourite sports name: \")\n",
    "    if (sport == \"\"):\n",
    "        sport = 'Cricket'\n",
    "    if (name):\n",
    "        response[name] = sport\n",
    "        write_json(response)\n",
    "\n",
    "\n",
    "if __name__ == \"__main__\":\n",
    "    call_sport()\n",
    "\n",
    "call_sport()\n"
   ]
  },
  {
   "cell_type": "code",
   "execution_count": null,
   "id": "dd7044c6",
   "metadata": {},
   "outputs": [],
   "source": []
  }
 ],
 "metadata": {
  "kernelspec": {
   "display_name": "Python 3 (ipykernel)",
   "language": "python",
   "name": "python3"
  },
  "language_info": {
   "codemirror_mode": {
    "name": "ipython",
    "version": 3
   },
   "file_extension": ".py",
   "mimetype": "text/x-python",
   "name": "python",
   "nbconvert_exporter": "python",
   "pygments_lexer": "ipython3",
   "version": "3.9.12"
  }
 },
 "nbformat": 4,
 "nbformat_minor": 5
}
